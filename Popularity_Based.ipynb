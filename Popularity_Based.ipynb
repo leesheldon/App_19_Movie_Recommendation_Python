{
 "cells": [
  {
   "cell_type": "markdown",
   "id": "92dca37e-0c96-4440-a0f0-ffd1b8c72d95",
   "metadata": {},
   "source": [
    "# Popularity-Based Filtering"
   ]
  },
  {
   "cell_type": "markdown",
   "id": "cc023514-db95-433a-8663-ca2c634d0d33",
   "metadata": {},
   "source": [
    "### Load the data"
   ]
  },
  {
   "cell_type": "code",
   "execution_count": 1,
   "id": "7b8fc438-ad74-4329-8604-aa9f0fde212b",
   "metadata": {},
   "outputs": [],
   "source": [
    "import pandas as pd\n",
    "\n",
    "movies = pd.read_csv(\"movies.csv\")\n",
    "credits = pd.read_csv(\"credits.csv\")\n",
    "ratings = pd.read_csv(\"ratings.csv\")"
   ]
  },
  {
   "cell_type": "code",
   "execution_count": 2,
   "id": "8333a1a7-2fcb-4cc5-8a4c-1cf2f7743d93",
   "metadata": {},
   "outputs": [
    {
     "data": {
      "text/html": [
       "<div>\n",
       "<style scoped>\n",
       "    .dataframe tbody tr th:only-of-type {\n",
       "        vertical-align: middle;\n",
       "    }\n",
       "\n",
       "    .dataframe tbody tr th {\n",
       "        vertical-align: top;\n",
       "    }\n",
       "\n",
       "    .dataframe thead th {\n",
       "        text-align: right;\n",
       "    }\n",
       "</style>\n",
       "<table border=\"1\" class=\"dataframe\">\n",
       "  <thead>\n",
       "    <tr style=\"text-align: right;\">\n",
       "      <th></th>\n",
       "      <th>userId</th>\n",
       "      <th>movieId</th>\n",
       "      <th>rating</th>\n",
       "      <th>timestamp</th>\n",
       "    </tr>\n",
       "  </thead>\n",
       "  <tbody>\n",
       "    <tr>\n",
       "      <th>0</th>\n",
       "      <td>1</td>\n",
       "      <td>31</td>\n",
       "      <td>2.5</td>\n",
       "      <td>1260759144</td>\n",
       "    </tr>\n",
       "    <tr>\n",
       "      <th>1</th>\n",
       "      <td>1</td>\n",
       "      <td>1029</td>\n",
       "      <td>3.0</td>\n",
       "      <td>1260759179</td>\n",
       "    </tr>\n",
       "    <tr>\n",
       "      <th>2</th>\n",
       "      <td>1</td>\n",
       "      <td>1061</td>\n",
       "      <td>3.0</td>\n",
       "      <td>1260759182</td>\n",
       "    </tr>\n",
       "    <tr>\n",
       "      <th>3</th>\n",
       "      <td>1</td>\n",
       "      <td>1129</td>\n",
       "      <td>2.0</td>\n",
       "      <td>1260759185</td>\n",
       "    </tr>\n",
       "    <tr>\n",
       "      <th>4</th>\n",
       "      <td>1</td>\n",
       "      <td>1172</td>\n",
       "      <td>4.0</td>\n",
       "      <td>1260759205</td>\n",
       "    </tr>\n",
       "  </tbody>\n",
       "</table>\n",
       "</div>"
      ],
      "text/plain": [
       "   userId  movieId  rating   timestamp\n",
       "0       1       31     2.5  1260759144\n",
       "1       1     1029     3.0  1260759179\n",
       "2       1     1061     3.0  1260759182\n",
       "3       1     1129     2.0  1260759185\n",
       "4       1     1172     4.0  1260759205"
      ]
     },
     "execution_count": 2,
     "metadata": {},
     "output_type": "execute_result"
    }
   ],
   "source": [
    "ratings.head()"
   ]
  },
  {
   "cell_type": "markdown",
   "id": "0c910be7-f71e-4787-8748-4e4008b54e84",
   "metadata": {},
   "source": [
    "### Calculate a weighted rating"
   ]
  },
  {
   "cell_type": "markdown",
   "id": "8ea46cba-6d36-4f44-acec-5308afaf0825",
   "metadata": {},
   "source": [
    "WR = (v / (v + m)) x R + (m / (v + m)) x C"
   ]
  },
  {
   "cell_type": "markdown",
   "id": "5b48aaba-3880-4f3e-bed9-fc752ed33246",
   "metadata": {},
   "source": [
    "v - number of votes for a movie"
   ]
  },
  {
   "cell_type": "markdown",
   "id": "df057bc4-7a3e-46a6-88c0-7e3620cd3a15",
   "metadata": {},
   "source": [
    "m - minimum number of votes required"
   ]
  },
  {
   "cell_type": "markdown",
   "id": "27011283-ed5c-466e-8132-89b3ac837d92",
   "metadata": {},
   "source": [
    "R - average rating of the movie"
   ]
  },
  {
   "cell_type": "markdown",
   "id": "3e29f2a7-fce4-45d9-83fb-c0d107d1f858",
   "metadata": {},
   "source": [
    "C - average rating across all movies"
   ]
  },
  {
   "cell_type": "code",
   "execution_count": 3,
   "id": "b50f8c5f-ff6e-4f51-9281-1d9d45e74e25",
   "metadata": {},
   "outputs": [
    {
     "data": {
      "text/plain": [
       "1838.4000000000015"
      ]
     },
     "execution_count": 3,
     "metadata": {},
     "output_type": "execute_result"
    }
   ],
   "source": [
    "m = movies[\"vote_count\"].quantile(0.9)\n",
    "m"
   ]
  },
  {
   "cell_type": "markdown",
   "id": "c8c720cc-97b9-4276-945d-efcca0a54edd",
   "metadata": {},
   "source": [
    "90% of the movies have a vote count < 1838 and 10% of the movies have a vote count > 1838"
   ]
  },
  {
   "cell_type": "code",
   "execution_count": 4,
   "id": "2ff7f73d-1447-404a-894b-0938c01ed4cf",
   "metadata": {},
   "outputs": [
    {
     "data": {
      "text/plain": [
       "6.092171559442016"
      ]
     },
     "execution_count": 4,
     "metadata": {},
     "output_type": "execute_result"
    }
   ],
   "source": [
    "C = movies[\"vote_average\"].mean()\n",
    "C"
   ]
  },
  {
   "cell_type": "code",
   "execution_count": 5,
   "id": "5fe21a75-84d0-4bb6-948c-bb50adba24d1",
   "metadata": {},
   "outputs": [],
   "source": [
    "movies_filtered = movies.copy().loc[movies[\"vote_count\"] >= m]"
   ]
  },
  {
   "cell_type": "code",
   "execution_count": 6,
   "id": "7fdf74be-499e-4a50-bf1c-1cd90fefb944",
   "metadata": {},
   "outputs": [],
   "source": [
    "def weighted_rating(df, m=m, C=C):\n",
    "    R = df[\"vote_average\"]\n",
    "    v = df[\"vote_count\"]\n",
    "    wr = ((v / (v+m)) * R) + ((m / (v+m)) * C)\n",
    "    return wr"
   ]
  },
  {
   "cell_type": "code",
   "execution_count": 7,
   "id": "55624e92-60d4-4fea-9b49-7672fec2a009",
   "metadata": {},
   "outputs": [],
   "source": [
    "movies_filtered[\"weighted_rating\"] = movies_filtered.apply(weighted_rating, axis=1)"
   ]
  },
  {
   "cell_type": "code",
   "execution_count": 8,
   "id": "90b811b5-df09-4ac8-b63c-34cb8747d6c5",
   "metadata": {},
   "outputs": [
    {
     "data": {
      "text/html": [
       "<div>\n",
       "<style scoped>\n",
       "    .dataframe tbody tr th:only-of-type {\n",
       "        vertical-align: middle;\n",
       "    }\n",
       "\n",
       "    .dataframe tbody tr th {\n",
       "        vertical-align: top;\n",
       "    }\n",
       "\n",
       "    .dataframe thead th {\n",
       "        text-align: right;\n",
       "    }\n",
       "</style>\n",
       "<table border=\"1\" class=\"dataframe\">\n",
       "  <thead>\n",
       "    <tr style=\"text-align: right;\">\n",
       "      <th></th>\n",
       "      <th>title</th>\n",
       "      <th>vote_count</th>\n",
       "      <th>weighted_rating</th>\n",
       "    </tr>\n",
       "  </thead>\n",
       "  <tbody>\n",
       "    <tr>\n",
       "      <th>1881</th>\n",
       "      <td>The Shawshank Redemption</td>\n",
       "      <td>8205</td>\n",
       "      <td>8.059258</td>\n",
       "    </tr>\n",
       "    <tr>\n",
       "      <th>662</th>\n",
       "      <td>Fight Club</td>\n",
       "      <td>9413</td>\n",
       "      <td>7.939256</td>\n",
       "    </tr>\n",
       "    <tr>\n",
       "      <th>65</th>\n",
       "      <td>The Dark Knight</td>\n",
       "      <td>12002</td>\n",
       "      <td>7.920020</td>\n",
       "    </tr>\n",
       "    <tr>\n",
       "      <th>3232</th>\n",
       "      <td>Pulp Fiction</td>\n",
       "      <td>8428</td>\n",
       "      <td>7.904645</td>\n",
       "    </tr>\n",
       "    <tr>\n",
       "      <th>96</th>\n",
       "      <td>Inception</td>\n",
       "      <td>13752</td>\n",
       "      <td>7.863239</td>\n",
       "    </tr>\n",
       "    <tr>\n",
       "      <th>3337</th>\n",
       "      <td>The Godfather</td>\n",
       "      <td>5893</td>\n",
       "      <td>7.851236</td>\n",
       "    </tr>\n",
       "    <tr>\n",
       "      <th>95</th>\n",
       "      <td>Interstellar</td>\n",
       "      <td>10867</td>\n",
       "      <td>7.809479</td>\n",
       "    </tr>\n",
       "    <tr>\n",
       "      <th>809</th>\n",
       "      <td>Forrest Gump</td>\n",
       "      <td>7927</td>\n",
       "      <td>7.803188</td>\n",
       "    </tr>\n",
       "    <tr>\n",
       "      <th>329</th>\n",
       "      <td>The Lord of the Rings: The Return of the King</td>\n",
       "      <td>8064</td>\n",
       "      <td>7.727243</td>\n",
       "    </tr>\n",
       "    <tr>\n",
       "      <th>1990</th>\n",
       "      <td>The Empire Strikes Back</td>\n",
       "      <td>5879</td>\n",
       "      <td>7.697884</td>\n",
       "    </tr>\n",
       "  </tbody>\n",
       "</table>\n",
       "</div>"
      ],
      "text/plain": [
       "                                              title  vote_count  \\\n",
       "1881                       The Shawshank Redemption        8205   \n",
       "662                                      Fight Club        9413   \n",
       "65                                  The Dark Knight       12002   \n",
       "3232                                   Pulp Fiction        8428   \n",
       "96                                        Inception       13752   \n",
       "3337                                  The Godfather        5893   \n",
       "95                                     Interstellar       10867   \n",
       "809                                    Forrest Gump        7927   \n",
       "329   The Lord of the Rings: The Return of the King        8064   \n",
       "1990                        The Empire Strikes Back        5879   \n",
       "\n",
       "      weighted_rating  \n",
       "1881         8.059258  \n",
       "662          7.939256  \n",
       "65           7.920020  \n",
       "3232         7.904645  \n",
       "96           7.863239  \n",
       "3337         7.851236  \n",
       "95           7.809479  \n",
       "809          7.803188  \n",
       "329          7.727243  \n",
       "1990         7.697884  "
      ]
     },
     "execution_count": 8,
     "metadata": {},
     "output_type": "execute_result"
    }
   ],
   "source": [
    "movies_filtered.sort_values(\"weighted_rating\", ascending=False)[[\"title\", \"vote_count\", \"weighted_rating\"]].head(10)"
   ]
  },
  {
   "cell_type": "code",
   "execution_count": null,
   "id": "ab207e95-e9db-4db2-b42b-e647908c0cec",
   "metadata": {},
   "outputs": [],
   "source": []
  }
 ],
 "metadata": {
  "kernelspec": {
   "display_name": "Python 3 (ipykernel)",
   "language": "python",
   "name": "python3"
  },
  "language_info": {
   "codemirror_mode": {
    "name": "ipython",
    "version": 3
   },
   "file_extension": ".py",
   "mimetype": "text/x-python",
   "name": "python",
   "nbconvert_exporter": "python",
   "pygments_lexer": "ipython3",
   "version": "3.11.6"
  }
 },
 "nbformat": 4,
 "nbformat_minor": 5
}
